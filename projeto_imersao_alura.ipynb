{
  "nbformat": 4,
  "nbformat_minor": 0,
  "metadata": {
    "colab": {
      "provenance": [],
      "collapsed_sections": [
        "9FY6hEJLLTBt",
        "QxqSr9DhL6NT"
      ],
      "authorship_tag": "ABX9TyP2XkLhsXGsSA9uIbBFxRpz",
      "include_colab_link": true
    },
    "kernelspec": {
      "name": "python3",
      "display_name": "Python 3"
    },
    "language_info": {
      "name": "python"
    }
  },
  "cells": [
    {
      "cell_type": "markdown",
      "metadata": {
        "id": "view-in-github",
        "colab_type": "text"
      },
      "source": [
        "<a href=\"https://colab.research.google.com/github/tilucasoliveira/Projeto_Imersao_IA_Alura-Google/blob/main/projeto_imersao_alura.ipynb\" target=\"_parent\"><img src=\"https://colab.research.google.com/assets/colab-badge.svg\" alt=\"Open In Colab\"/></a>"
      ]
    },
    {
      "cell_type": "markdown",
      "source": [
        "##Instalar o SDK do Google"
      ],
      "metadata": {
        "id": "9FY6hEJLLTBt"
      }
    },
    {
      "cell_type": "code",
      "execution_count": 32,
      "metadata": {
        "id": "lTTjlGakI1df"
      },
      "outputs": [],
      "source": [
        "!pip install -q -U google-generativeai"
      ]
    },
    {
      "cell_type": "markdown",
      "source": [
        "##Importando o SDK e adicionando a APKEY do Google Gemini"
      ],
      "metadata": {
        "id": "QxqSr9DhL6NT"
      }
    },
    {
      "cell_type": "code",
      "source": [
        "# Import the Python SDK\n",
        "import google.generativeai as genai\n",
        "from google.colab import userdata\n",
        "api_key = userdata.get('secret_key')\n",
        "genai.configure(api_key=api_key)"
      ],
      "metadata": {
        "id": "Q1XdgbVQLy0M"
      },
      "execution_count": 64,
      "outputs": []
    },
    {
      "cell_type": "markdown",
      "source": [
        "##Importando bibliotecas necessárias"
      ],
      "metadata": {
        "id": "MtjGwdjZIPS8"
      }
    },
    {
      "cell_type": "code",
      "source": [
        "#import numpy\n",
        "import numpy as np\n",
        "#import pandas\n",
        "import pandas as pd"
      ],
      "metadata": {
        "id": "PsPWV9soIWxe"
      },
      "execution_count": 65,
      "outputs": []
    },
    {
      "cell_type": "markdown",
      "source": [
        "##Listando os modelos do Gemini disponíveis"
      ],
      "metadata": {
        "id": "ZEVMoaU-NJDM"
      }
    },
    {
      "cell_type": "code",
      "source": [
        "for m in genai.list_models():\n",
        "  if 'generateContent' in m.supported_generation_methods:\n",
        "    print(m.name)"
      ],
      "metadata": {
        "colab": {
          "base_uri": "https://localhost:8080/",
          "height": 139
        },
        "id": "V6Ch3ywYNGS8",
        "outputId": "3b6976c1-e4f8-4c3f-d94d-049459bed789"
      },
      "execution_count": 66,
      "outputs": [
        {
          "output_type": "stream",
          "name": "stdout",
          "text": [
            "models/gemini-1.0-pro\n",
            "models/gemini-1.0-pro-001\n",
            "models/gemini-1.0-pro-latest\n",
            "models/gemini-1.0-pro-vision-latest\n",
            "models/gemini-1.5-pro-latest\n",
            "models/gemini-pro\n",
            "models/gemini-pro-vision\n"
          ]
        }
      ]
    },
    {
      "cell_type": "markdown",
      "source": [
        "##Escolhendo o Modelo Generativo do Google Gemini"
      ],
      "metadata": {
        "id": "Ux2loNIJAv7X"
      }
    },
    {
      "cell_type": "code",
      "source": [
        "model = genai.GenerativeModel('models/gemini-1.0-pro')"
      ],
      "metadata": {
        "id": "uRAcOeYHMt_k"
      },
      "execution_count": 103,
      "outputs": []
    },
    {
      "cell_type": "markdown",
      "source": [
        "##Parametrizando o modelo"
      ],
      "metadata": {
        "id": "_jqNH1MdNhHP"
      }
    },
    {
      "cell_type": "code",
      "source": [
        "# Define a configuração de geração do modelo\n",
        "generation_config = {\n",
        "  \"temperature\": 1,\n",
        "  \"top_p\": 0.95,\n",
        "  \"top_k\": 0,\n",
        "  \"max_output_tokens\": 8192,\n",
        "}"
      ],
      "metadata": {
        "id": "dUpJSGmaNi8k"
      },
      "execution_count": 68,
      "outputs": []
    },
    {
      "cell_type": "code",
      "source": [
        "# Define a configuração de segurança do modelo\n",
        "safety_settings = [\n",
        "  {\n",
        "    \"category\": \"HARM_CATEGORY_HARASSMENT\",\n",
        "    \"threshold\": \"BLOCK_MEDIUM_AND_ABOVE\"\n",
        "  },\n",
        "  {\n",
        "    \"category\": \"HARM_CATEGORY_HATE_SPEECH\",\n",
        "    \"threshold\": \"BLOCK_MEDIUM_AND_ABOVE\"\n",
        "  },\n",
        "  {\n",
        "    \"category\": \"HARM_CATEGORY_SEXUALLY_EXPLICIT\",\n",
        "    \"threshold\": \"BLOCK_MEDIUM_AND_ABOVE\"\n",
        "  },\n",
        "  {\n",
        "    \"category\": \"HARM_CATEGORY_DANGEROUS_CONTENT\",\n",
        "    \"threshold\": \"BLOCK_MEDIUM_AND_ABOVE\"\n",
        "  },\n",
        "]"
      ],
      "metadata": {
        "id": "f5dnyz0YOAv8"
      },
      "execution_count": 69,
      "outputs": []
    },
    {
      "cell_type": "markdown",
      "source": [
        "##Exemplo de utilização do Gemini em API"
      ],
      "metadata": {
        "id": "UmniaRQbMzr9"
      }
    },
    {
      "cell_type": "code",
      "source": [
        "response = model.generate_content(\"Aleatoriamente, pegue os principais ingredientes de uma receita, escreva o título da receita, liste os alimentos e calcule aproximadamente as calorias desse prato.\")\n",
        "print(response.text)"
      ],
      "metadata": {
        "id": "3sNhAU2vM3Al",
        "colab": {
          "base_uri": "https://localhost:8080/",
          "height": 451
        },
        "outputId": "2607c50b-d007-4b47-8979-3e644a6ea5e1"
      },
      "execution_count": 110,
      "outputs": [
        {
          "output_type": "stream",
          "name": "stdout",
          "text": [
            "## Frango Tropical com Manga e Abacaxi\n",
            "\n",
            "**Ingredientes:**\n",
            "\n",
            "* 1 peito de frango em cubos (200g)\n",
            "* 1/2 manga em cubos (150g)\n",
            "* 1/4 de abacaxi em cubos (100g)\n",
            "* 1/2 cebola roxa picada (50g)\n",
            "* 1 colher de sopa de azeite de oliva (15ml)\n",
            "* 1 colher de chá de curry em pó (5g)\n",
            "* Sal e pimenta do reino a gosto\n",
            "\n",
            "**Calorias aproximadas:**\n",
            "\n",
            "* Frango: 250kcal\n",
            "* Manga: 90kcal\n",
            "* Abacaxi: 50kcal\n",
            "* Cebola: 20kcal\n",
            "* Azeite de oliva: 120kcal\n",
            "* Curry: 20kcal\n",
            "\n",
            "**Total: 550kcal**\n",
            "\n",
            "**Observação:** O valor calórico é uma estimativa e pode variar de acordo com o tamanho dos ingredientes, método de cozimento e outros fatores. \n",
            "\n"
          ]
        }
      ]
    },
    {
      "cell_type": "markdown",
      "source": [
        "##Início do Código do projeto"
      ],
      "metadata": {
        "id": "gKoMlAO9OSLX"
      }
    },
    {
      "cell_type": "code",
      "source": [
        "#variável para armazenar o histórico da interação como o aplicativo\n",
        "chat = model.start_chat(history=[])"
      ],
      "metadata": {
        "id": "1gVJ9xSXOaU1"
      },
      "execution_count": 111,
      "outputs": []
    },
    {
      "cell_type": "code",
      "source": [
        "print('Escolha a refeição que você deseja, digitando o número correspondente: \\n 1 - Café da Manhã \\n 2 - Almoço \\n 3 - Lanche da Tarde \\n 4 - Janta \\n 5 - Sobremesa \\n 0 - Refeição Aleatória \\n \\n Para sair, digite sair \\n \\n', \"Digite apenas números: \")\n",
        "\n",
        "refeicao=int(input())\n",
        "escolha=\" \"\n",
        "if refeicao == 1:\n",
        "  escolha = \"pegue os principais ingredientes de uma receita de café da manhã, o título da receita, liste os alimentos e calcule aproximadamente as calorias desse prato.\"\n",
        "  tipo_refeicao=\"1 - Café da Manhã\"\n",
        "elif refeicao == 2:\n",
        "  escolha = \"pegue os principais ingredientes de uma receita de almoço, o título da receita, liste os alimentos e calcule aproximadamente as calorias desse prato.\"\n",
        "  tipo_refeicao=\"2 - Almoço\"\n",
        "elif refeicao == 3:\n",
        "  escolha = \"pegue os principais ingredientes de uma receita de lanche da tarde, o título da receita, liste os alimentos e calcule aproximadamente as calorias desse prato.\"\n",
        "  tipo_refeicao=\"3 - Lanche da Tarde\"\n",
        "elif refeicao == 4:\n",
        "  escolha = \"pegue os principais ingredientes de uma receita de jantar, o título da receita, liste os alimentos e calcule aproximadamente as calorias desse prato.\"\n",
        "  tipo_refeicao=\"4 - Jantar\"\n",
        "elif refeicao == 5:\n",
        "  escolha = \"pegue os principais ingredientes de uma receita de sobremesa,o título da receita, liste os alimentos e calcule aproximadamente as calorias desse prato.\"\n",
        "  tipo_refeicao=\"5 - Sobremesa\"\n",
        "elif refeicao == 0:\n",
        "  escolha = \"Aleatoriamente, pegue os principais ingredientes de uma receita, escreva o tipo de refeição mais o título da receita, liste os alimentos e calcule aproximadamente as calorias desse prato.\"\n",
        "  tipo_refeicao=\"0 - Refeição Aleatória\"\n",
        "else:\n",
        "        escolha = \"escolha uma fruta aleatória e calcule aproximadamente as calorias\"\n",
        "        tipo_refeicao=\"Nenhuma escolha -Sugiro uma Fruta aleatória\"\n",
        "\n",
        "prompt = escolha\n",
        "\n",
        "response = chat.send_message(prompt)\n",
        "print(\"Refeição escolhida: \",tipo_refeicao,\"\\n\", response.text, \"\\n\")\n",
        "print(\"-------------------------------------------\")\n",
        "\n",
        "\n",
        "\n",
        "\n"
      ],
      "metadata": {
        "colab": {
          "base_uri": "https://localhost:8080/",
          "height": 1000
        },
        "id": "TurjuFJpdR1v",
        "outputId": "ddacab9e-4f4b-4232-f301-a5d9cbce7497"
      },
      "execution_count": 158,
      "outputs": [
        {
          "output_type": "stream",
          "name": "stdout",
          "text": [
            "Escolha a refeição que você deseja, digitando o número correspondente: \n",
            " 1 - Café da Manhã \n",
            " 2 - Almoço \n",
            " 3 - Lanche da Tarde \n",
            " 4 - Janta \n",
            " 5 - Sobremesa \n",
            " 0 - Refeição Aleatória \n",
            " \n",
            " Para sair, digite sair \n",
            " \n",
            " Digite apenas números\n",
            "0\n",
            "Refeição escolhida:  0 - Refeição Aleatória \n",
            " ## Jantar: Curry de Grão de Bico com Espinafre e Coco \n",
            "\n",
            "**Ingredientes:**\n",
            "\n",
            "* 1 cebola média picada (150g)\n",
            "* 2 dentes de alho picados (6g)\n",
            "* 1 colher de sopa (15ml) de óleo de coco\n",
            "* 1 colher de chá (5g) de gengibre ralado\n",
            "* 1 colher de chá (5g) de cúrcuma em pó\n",
            "* 1/2 colher de chá (3g) de cominho em pó\n",
            "* 1/4 colher de chá (1g) de pimenta caiena (opcional)\n",
            "* 1 lata (400g) de tomate picado\n",
            "* 1 lata (400g) de leite de coco \n",
            "* 1 xícara (180g) de grão de bico cozido\n",
            "* 2 xícaras (60g) de espinafre fresco\n",
            "\n",
            "**Calorias aproximadas por ingrediente:**\n",
            "\n",
            "* Cebola: 60kcal\n",
            "* Alho: 9kcal\n",
            "* Óleo de coco: 120kcal\n",
            "* Gengibre: 8kcal\n",
            "* Cúrcuma: 12kcal\n",
            "* Cominho: 6kcal\n",
            "* Pimenta caiena: 4kcal\n",
            "* Tomate picado: 80kcal\n",
            "* Leite de coco: 240kcal\n",
            "* Grão de bico: 210kcal\n",
            "* Espinafre: 14kcal\n",
            "\n",
            "**Total de calorias:** 773kcal\n",
            "\n",
            "**Observações:**\n",
            "\n",
            "* As calorias podem variar dependendo das marcas dos ingredientes utilizados. \n",
            "* Esta receita rende em torno de 4 porções.\n",
            "* O valor calórico por porção fica em torno de 193kcal.\n",
            "\n",
            "**Dicas:**\n",
            "\n",
            "* Sirva este curry com arroz branco, integral ou quinoa para uma refeição completa.\n",
            "* Você pode adicionar outros vegetais ao curry, como couve-flor, brócolis ou batata doce.\n",
            "* Ajuste a quantidade de pimenta caiena de acordo com a sua preferência por picante.\n",
            "\n",
            "Desfrute deste curry saboroso, nutritivo e fácil de preparar! 😋 \n",
            " \n",
            "\n",
            "-------------------------------------------\n"
          ]
        }
      ]
    }
  ]
}